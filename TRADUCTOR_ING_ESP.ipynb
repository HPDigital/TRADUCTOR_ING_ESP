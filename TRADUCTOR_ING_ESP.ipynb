{
 "cells": [
  {
   "cell_type": "code",
   "execution_count": 1,
   "id": "940c6da5-ea91-4fc4-9f1b-1b4cf535c6d0",
   "metadata": {},
   "outputs": [],
   "source": [
    "from googletrans import Translator\n",
    "import textwrap\n",
    "\n",
    "def read_and_chunk_file(file_path, chunk_size=4500):\n",
    "    # Leer el documento completo\n",
    "    with open(file_path, 'r', encoding='utf-8') as file:\n",
    "        content = file.read()\n",
    "    \n",
    "    # Dividir el documento en chunks\n",
    "    chunks = textwrap.wrap(content, chunk_size, break_long_words=False, replace_whitespace=False)\n",
    "    return chunks\n",
    "\n",
    "def translate_chunks(chunks, src_lang='en', dest_lang='es'):\n",
    "    translator = Translator()\n",
    "    translated_chunks = []\n",
    "\n",
    "    for i in range(len(chunks)):\n",
    "        # Traducir cada chunk\n",
    "        translated_chunk = translator.translate(chunks[i], src=src_lang, dest=dest_lang).text\n",
    "        translated_chunks.append(translated_chunk)\n",
    "    \n",
    "    return translated_chunks\n",
    "\n",
    "def save_translated_chunks(translated_chunks, output_file_path):\n",
    "    # Juntar las partes traducidas\n",
    "    full_translation = ' '.join(translated_chunks)\n",
    "    \n",
    "    # Guardar en un nuevo archivo\n",
    "    with open(output_file_path, 'w', encoding='utf-8') as file:\n",
    "        file.write(full_translation)\n",
    "\n",
    "# Uso\n",
    "input_file_path = \"C:\\\\Users\\\\HP\\\\Desktop\\\\CATO CURSOS-1-2024\\\\GER-TI CATO1-2024\\\\Cursos\\\\SEMANA 8\\\\StrategyzerWebinarValuePropositionCanvasBestPractices.txt\"\n",
    "output_file_path = \"C:\\\\Users\\\\HP\\\\Desktop\\\\CATO CURSOS-1-2024\\GER-TI CATO1-2024\\\\Cursos\\\\SEMANA 8\\\\Texto_video_2.txt\"\n",
    "\n",
    "chunks = read_and_chunk_file(input_file_path)\n",
    "translated_chunks = translate_chunks(chunks)\n",
    "save_translated_chunks(translated_chunks, output_file_path)\n"
   ]
  },
  {
   "cell_type": "code",
   "execution_count": null,
   "id": "800357d6-ff1a-49ca-a580-06f24cc836e8",
   "metadata": {},
   "outputs": [],
   "source": []
  }
 ],
 "metadata": {
  "kernelspec": {
   "display_name": "Python 3 (ipykernel)",
   "language": "python",
   "name": "python3"
  },
  "language_info": {
   "codemirror_mode": {
    "name": "ipython",
    "version": 3
   },
   "file_extension": ".py",
   "mimetype": "text/x-python",
   "name": "python",
   "nbconvert_exporter": "python",
   "pygments_lexer": "ipython3",
   "version": "3.11.7"
  }
 },
 "nbformat": 4,
 "nbformat_minor": 5
}
